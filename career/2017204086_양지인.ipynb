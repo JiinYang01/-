{
 "cells": [
  {
   "cell_type": "code",
   "execution_count": 130,
   "metadata": {},
   "outputs": [
    {
     "name": "stdout",
     "output_type": "stream",
     "text": [
      "\t\t1인가구\t 2인가구\t 3인가구\t 4인가구\t 5인가구이상\n",
      "수도권\t\t17490\t\t 44448\t\t 49660\t\t 53632\t\t 60370\t\t \n",
      "비수도권\t10990\t\t 30802\t\t 32053\t\t 37865\t\t 37447\t\t \n"
     ]
    }
   ],
   "source": [
    "import numpy as np\n",
    "data_arr = np.loadtxt(\"asset.csv\", delimiter=\",\", dtype=np.str)\n",
    "a = {'c':1, 'nc':2}\n",
    "x=data_arr.shape\n",
    "data_arr[data_arr=='G1']='1' \n",
    "data_arr[data_arr=='G2']='2' \n",
    "data_arr=data_arr.astype('int64')\n",
    "print(\"\\t\\t1인가구\\t\", \"2인가구\\t\", \"3인가구\\t\", \"4인가구\\t\",\"5인가구이상\")\n",
    "begin=1\n",
    "x = {'a':1,'b':2}\n",
    "k=np.zeros(5)\n",
    "a111=np.zeros(5)\n",
    "lookup= np.array([2, 3, 4, 5, 200])\n",
    "for i, j in enumerate(lookup):\n",
    "    data_p = data_arr[(data_arr[:,1] >= begin) & (data_arr[:,1] <j)]\n",
    "    a1=data_p[data_p[:,0]==x['a']]    \n",
    "    a2=data_p[data_p[:,0]==x['b']] \n",
    "    k1=sum(a1[:,3]-a1[:,4])\n",
    "    k2=sum(a2[:,3]-a2[:,4])\n",
    "    k[i]=k1/len(a1)\n",
    "    a111[i]=k2/len(a2)\n",
    "    begin=j\n",
    "k=k.astype(np.int64)    \n",
    "k=k.astype(str)\n",
    "a111=a111.astype(np.int64)    \n",
    "a111=a111.astype(str)\n",
    "q=0\n",
    "print(\"수도권\\t\\t\"+k[0]+\"\\t\\t \"+k[1]+\"\\t\\t \"+k[2]+\"\\t\\t \"+k[3]+\"\\t\\t \"+k[4]+\"\\t\\t \")\n",
    "print(\"비수도권\\t\"+a111[0]+\"\\t\\t \"+a111[1]+\"\\t\\t \"+a111[2]+\"\\t\\t \"+a111[3]+\"\\t\\t \"+a111[4]+\"\\t\\t \")\n"
   ]
  },
  {
   "cell_type": "code",
   "execution_count": 139,
   "metadata": {},
   "outputs": [
    {
     "name": "stdout",
     "output_type": "stream",
     "text": [
      "\t\t      1인가구\t\t 2인가구\t 3인가구\t 4인가구\t 5인가구이상\n",
      "20대\t\t\t4754\t\t 8488\t\t 15865\t\t 11916\t\t 14221\n",
      "30대\t\t\t11468\t\t 18861\t\t 21337\t\t 29254\t\t 40954\n",
      "40대\t\t\t11950\t\t 24389\t\t 33170\t\t 43534\t\t 48716\n",
      "50대\t\t\t7925\t\t 27594\t\t 40675\t\t 52297\t\t 60094\n",
      "60대이상\t\t14551\t\t 27375\t\t 40685\t\t 52902\t\t 62211\n"
     ]
    }
   ],
   "source": [
    "import numpy as np\n",
    "data_arr = np.loadtxt(\"asset.csv\", delimiter=\",\", dtype=np.str)\n",
    "a = {'c':1, 'nc':2}\n",
    "x=data_arr.shape\n",
    "data_arr[data_arr=='G1']='1' \n",
    "data_arr[data_arr=='G2']='1' \n",
    "data_arr=data_arr.astype('int64')\n",
    "print(\"\\t\\t      1인가구\\t\\t\", \"2인가구\\t\", \"3인가구\\t\", \"4인가구\\t\",\"5인가구이상\")\n",
    "row_title_list =np.array ([\"20대\\t\", \"30대\\t\", \"40대\\t\", \"50대\\t\",\"60대이상\"]) \n",
    "begin=1\n",
    "k1=np.zeros(5)\n",
    "k2=np.zeros(5)\n",
    "k3=np.zeros(5)\n",
    "k4=np.zeros(5)\n",
    "k5=np.zeros(5)\n",
    "lookup= np.array([2, 3, 4, 5, 200])\n",
    "lookup1= np.array([20, 30, 40, 50, 200])\n",
    "q=0\n",
    "for i, j in enumerate(lookup):\n",
    "    data_p = data_arr[(data_arr[:,1] >= begin) & (data_arr[:,1] <j)]\n",
    "    a1=data_p[(data_p[:,2] >=20) & (data_p[:,2] <30)]\n",
    "    a2=data_p[(data_p[:,2] >=30) & (data_p[:,2] <40)]\n",
    "    a3=data_p[(data_p[:,2] >=40) & (data_p[:,2] <50)]\n",
    "    a4=data_p[(data_p[:,2] >=50) & (data_p[:,2] <60)]\n",
    "    a5=data_p[(data_p[:,2] >=60)]\n",
    "    begin=j\n",
    "    k1[q]=sum(a1[:,3]-a1[:,4])/len(a1)\n",
    "    k2[q]=sum(a2[:,3]-a2[:,4])/len(a2)\n",
    "    k3[q]=sum(a3[:,3]-a3[:,4])/len(a3)\n",
    "    k4[q]=sum(a4[:,3]-a4[:,4])/len(a4)\n",
    "    k5[q]=sum(a5[:,3]-a5[:,4])/len(a5)\n",
    "    q=q+1\n",
    "row_title_list=row_title_list.astype(str)\n",
    "k1=k1.astype(np.int64)\n",
    "k1=k1.astype(np.str)\n",
    "k2=k2.astype(np.int64)\n",
    "k2=k2.astype(np.str)\n",
    "k3=k3.astype(np.int64)\n",
    "k3=k3.astype(np.str)\n",
    "k4=k4.astype(np.int64)\n",
    "k4=k4.astype(np.str)\n",
    "k5=k5.astype(np.int64)\n",
    "k5=k5.astype(np.str)\n",
    "\n",
    "for i in range(5):\n",
    "    print(row_title_list[i] +\"\\t\\t\"+k1[i]+\"\\t\\t \"+k2[i]+\"\\t\\t \"+k3[i]+\"\\t\\t \"+k4[i]+\"\\t\\t \"+k5[i])\n",
    "    \n",
    "\n",
    "\n",
    "    \n",
    "    \n",
    "   \n"
   ]
  },
  {
   "cell_type": "code",
   "execution_count": null,
   "metadata": {},
   "outputs": [],
   "source": []
  }
 ],
 "metadata": {
  "kernelspec": {
   "display_name": "Python 3",
   "language": "python",
   "name": "python3"
  },
  "language_info": {
   "codemirror_mode": {
    "name": "ipython",
    "version": 3
   },
   "file_extension": ".py",
   "mimetype": "text/x-python",
   "name": "python",
   "nbconvert_exporter": "python",
   "pygments_lexer": "ipython3",
   "version": "3.7.3"
  }
 },
 "nbformat": 4,
 "nbformat_minor": 2
}
